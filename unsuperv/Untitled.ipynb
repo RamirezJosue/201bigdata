{
 "cells": [
  {
   "cell_type": "code",
   "execution_count": 2,
   "metadata": {},
   "outputs": [
    {
     "data": {
      "text/plain": [
       "[Row(Alumno=1, Matematica=15, Lenguaje=16, Fisica=16, Estadistica=15, Filosofia=14),\n",
       " Row(Alumno=2, Matematica=17, Lenguaje=14, Fisica=15, Estadistica=16, Filosofia=16),\n",
       " Row(Alumno=3, Matematica=13, Lenguaje=15, Fisica=12, Estadistica=13, Filosofia=15)]"
      ]
     },
     "execution_count": 2,
     "metadata": {},
     "output_type": "execute_result"
    }
   ],
   "source": [
    "df = sqlContext.read.format('csv').options(header='true', inferschema='true')\\\n",
    "    .load('../notas.csv')\n",
    "df.rdd.take(3)"
   ]
  },
  {
   "cell_type": "code",
   "execution_count": 5,
   "metadata": {},
   "outputs": [],
   "source": [
    "#Feature selection\n",
    "df2=df.select('Matematica','Lenguaje','Fisica','Estadistica','Filosofia')\n",
    "#df2.show()"
   ]
  },
  {
   "cell_type": "code",
   "execution_count": 7,
   "metadata": {},
   "outputs": [],
   "source": [
    "# df2.groupBy(\"Matematica\").count().show()"
   ]
  },
  {
   "cell_type": "code",
   "execution_count": 40,
   "metadata": {},
   "outputs": [
    {
     "name": "stdout",
     "output_type": "stream",
     "text": [
      "+----------+--------+------+-----------+---------+--------------------+\n",
      "|Matematica|Lenguaje|Fisica|Estadistica|Filosofia|            features|\n",
      "+----------+--------+------+-----------+---------+--------------------+\n",
      "|        15|      16|    16|         15|       14|[15.0,16.0,16.0,1...|\n",
      "|        17|      14|    15|         16|       16|[17.0,14.0,15.0,1...|\n",
      "|        13|      15|    12|         13|       15|[13.0,15.0,12.0,1...|\n",
      "|        18|      16|    17|         17|       15|[18.0,16.0,17.0,1...|\n",
      "|        14|      13|    16|         15|       14|[14.0,13.0,16.0,1...|\n",
      "|        18|      16|    17|         16|       15|[18.0,16.0,17.0,1...|\n",
      "|        15|      14|    14|         14|       14|[15.0,14.0,14.0,1...|\n",
      "|        16|      11|    12|         14|       12|[16.0,11.0,12.0,1...|\n",
      "|        17|      16|    13|         15|       15|[17.0,16.0,13.0,1...|\n",
      "|        18|      12|    14|         15|       13|[18.0,12.0,14.0,1...|\n",
      "|        12|      13|    15|         13|       12|[12.0,13.0,15.0,1...|\n",
      "|        13|      16|    12|         13|       15|[13.0,16.0,12.0,1...|\n",
      "|        14|      17|    17|         16|       16|[14.0,17.0,17.0,1...|\n",
      "|        12|      18|    13|         13|       17|[12.0,18.0,13.0,1...|\n",
      "|        13|      15|    12|         12|       14|[13.0,15.0,12.0,1...|\n",
      "|        14|      16|    13|         13|       13|[14.0,16.0,13.0,1...|\n",
      "|        16|      17|    15|         15|       16|[16.0,17.0,15.0,1...|\n",
      "|        16|      15|    15|         16|       16|[16.0,15.0,15.0,1...|\n",
      "|        15|      14|    14|         16|       13|[15.0,14.0,14.0,1...|\n",
      "|        17|      17|    14|         17|       16|[17.0,17.0,14.0,1...|\n",
      "+----------+--------+------+-----------+---------+--------------------+\n",
      "\n"
     ]
    }
   ],
   "source": [
    "\n",
    "from pyspark.ml.feature import VectorAssembler\n",
    "fea=['Matematica','Lenguaje','Fisica','Estadistica','Filosofia']\n",
    "featureAssembler = VectorAssembler(inputCols=fea, outputCol=\"features\")\n",
    "\n",
    "#solo para mostrar\n",
    "dfa = featureAssembler.transform(df2) # this will add to the table outputCol column with vectors.\n",
    "dfa.show()\n"
   ]
  },
  {
   "cell_type": "code",
   "execution_count": 33,
   "metadata": {},
   "outputs": [],
   "source": [
    "# from pyspark.ml import Pipeline"
   ]
  },
  {
   "cell_type": "code",
   "execution_count": 41,
   "metadata": {},
   "outputs": [
    {
     "name": "stdout",
     "output_type": "stream",
     "text": [
      "Training Dataset Count: 13\n",
      "Test Dataset Count: 7\n"
     ]
    }
   ],
   "source": [
    "#3 distribucion de los datos\n",
    "\n",
    "# set seed for reproducibility\n",
    "(trainingData, testData) = df2.randomSplit([0.7, 0.3], seed = 100)\n",
    "print(\"Training Dataset Count: \" + str(trainingData.count()))\n",
    "print(\"Test Dataset Count: \" + str(testData.count()))"
   ]
  },
  {
   "cell_type": "code",
   "execution_count": 42,
   "metadata": {},
   "outputs": [],
   "source": [
    "#4. Modelamiento (con un modelo ML)\n",
    "# Fit Decision Tree Classification Model\n",
    "from pyspark.ml.classification import DecisionTreeClassifier\n",
    "\n",
    "# Instancia model\n",
    "dTree = DecisionTreeClassifier(labelCol='indexedLabel', featuresCol='indexedFeatures')"
   ]
  },
  {
   "cell_type": "code",
   "execution_count": 43,
   "metadata": {},
   "outputs": [],
   "source": [
    "from numpy import array\n",
    "import numpy as np\n",
    "from math import sqrt\n",
    "import matplotlib.pyplot as plt\n",
    "%matplotlib inline\n",
    "\n",
    "import seaborn as sns\n",
    "import pandas as pd"
   ]
  },
  {
   "cell_type": "code",
   "execution_count": 36,
   "metadata": {},
   "outputs": [
    {
     "data": {
      "text/plain": [
       "<seaborn.axisgrid.FacetGrid at 0x7f2ba98fead0>"
      ]
     },
     "execution_count": 36,
     "metadata": {},
     "output_type": "execute_result"
    },
    {
     "data": {
      "image/png": "[encoded data removed]",
      "text/plain": [
       "<Figure size 360x360 with 1 Axes>"
      ]
     },
     "metadata": {
      "needs_background": "light"
     },
     "output_type": "display_data"
    }
   ],
   "source": [
    "sns.lmplot(x='Matematica',y='Filosofia',data=df2.toPandas(),fit_reg=False,legend=True,scatter_kws={\"s\":80}) #,hue='Fisica'"
   ]
  },
  {
   "cell_type": "code",
   "execution_count": 19,
   "metadata": {},
   "outputs": [],
   "source": [
    "\n",
    "# from pyspark.ml import Pipeline"
   ]
  },
  {
   "cell_type": "code",
   "execution_count": 44,
   "metadata": {},
   "outputs": [
    {
     "name": "stdout",
     "output_type": "stream",
     "text": [
      "Training Dataset Count: 13\n",
      "Test Dataset Count: 7\n"
     ]
    }
   ],
   "source": [
    "#3 distribucion de los datos\n",
    "# set seed for reproducibility\n",
    "(trainingData, testData) = dfa.randomSplit([0.7, 0.3], seed = 100)\n",
    "print(\"Training Dataset Count: \" + str(trainingData.count()))\n",
    "print(\"Test Dataset Count: \" + str(testData.count()))"
   ]
  },
  {
   "cell_type": "code",
   "execution_count": 45,
   "metadata": {},
   "outputs": [],
   "source": [
    "#4. Modelamiento (con un modelo ML)\n",
    "# Fit KMans Model\n",
    "from pyspark.ml.clustering import KMeans\n",
    "from pyspark.ml.evaluation import ClusteringEvaluator\n",
    "\n",
    "# Instancia model\n",
    "#dTree = DecisionTreeClassifier(labelCol='indexedLabel', featuresCol='indexedFeatures')\n",
    "kmeans = KMeans().setK(3).setSeed(1)\n",
    "model = kmeans.fit(trainingData.select('features')) # train kmeans model"
   ]
  },
  {
   "cell_type": "code",
   "execution_count": 47,
   "metadata": {},
   "outputs": [
    {
     "data": {
      "text/plain": [
       "array([[16.66666667, 14.33333333, 14.16666667, 15.5       , 14.83333333],\n",
       "       [13.        , 16.        , 12.5       , 12.75      , 14.75      ],\n",
       "       [13.66666667, 14.        , 15.66666667, 14.33333333, 13.33333333]])"
      ]
     },
     "execution_count": 47,
     "metadata": {},
     "output_type": "execute_result"
    }
   ],
   "source": [
    "# Shows the result.\n",
    "centers = model.clusterCenters()\n",
    "centers = np.array([ arr for arr in centers])\n",
    "centers"
   ]
  },
  {
   "cell_type": "code",
   "execution_count": 48,
   "metadata": {},
   "outputs": [
    {
     "data": {
      "text/html": [
       "<div>\n",
       "<style scoped>\n",
       "    .dataframe tbody tr th:only-of-type {\n",
       "        vertical-align: middle;\n",
       "    }\n",
       "\n",
       "    .dataframe tbody tr th {\n",
       "        vertical-align: top;\n",
       "    }\n",
       "\n",
       "    .dataframe thead tr th {\n",
       "        text-align: left;\n",
       "    }\n",
       "\n",
       "    .dataframe thead tr:last-of-type th {\n",
       "        text-align: right;\n",
       "    }\n",
       "</style>\n",
       "<table border=\"1\" class=\"dataframe\">\n",
       "  <thead>\n",
       "    <tr>\n",
       "      <th></th>\n",
       "      <th colspan=\"3\" halign=\"left\">Cluster #</th>\n",
       "    </tr>\n",
       "    <tr>\n",
       "      <th></th>\n",
       "      <th>0</th>\n",
       "      <th>1</th>\n",
       "      <th>2</th>\n",
       "    </tr>\n",
       "    <tr>\n",
       "      <th>Attribute</th>\n",
       "      <th></th>\n",
       "      <th></th>\n",
       "      <th></th>\n",
       "    </tr>\n",
       "  </thead>\n",
       "  <tbody>\n",
       "    <tr>\n",
       "      <th>Matematica</th>\n",
       "      <td>16.666667</td>\n",
       "      <td>13.00</td>\n",
       "      <td>13.666667</td>\n",
       "    </tr>\n",
       "    <tr>\n",
       "      <th>Lenguaje</th>\n",
       "      <td>14.333333</td>\n",
       "      <td>16.00</td>\n",
       "      <td>14.000000</td>\n",
       "    </tr>\n",
       "    <tr>\n",
       "      <th>Fisica</th>\n",
       "      <td>14.166667</td>\n",
       "      <td>12.50</td>\n",
       "      <td>15.666667</td>\n",
       "    </tr>\n",
       "    <tr>\n",
       "      <th>Estadistica</th>\n",
       "      <td>15.500000</td>\n",
       "      <td>12.75</td>\n",
       "      <td>14.333333</td>\n",
       "    </tr>\n",
       "    <tr>\n",
       "      <th>Filosofia</th>\n",
       "      <td>14.833333</td>\n",
       "      <td>14.75</td>\n",
       "      <td>13.333333</td>\n",
       "    </tr>\n",
       "  </tbody>\n",
       "</table>\n",
       "</div>"
      ],
      "text/plain": [
       "             Cluster #                  \n",
       "                     0      1          2\n",
       "Attribute                               \n",
       "Matematica   16.666667  13.00  13.666667\n",
       "Lenguaje     14.333333  16.00  14.000000\n",
       "Fisica       14.166667  12.50  15.666667\n",
       "Estadistica  15.500000  12.75  14.333333\n",
       "Filosofia    14.833333  14.75  13.333333"
      ]
     },
     "execution_count": 48,
     "metadata": {},
     "output_type": "execute_result"
    }
   ],
   "source": [
    "import pandas as pd\n",
    "centersdf = pd.DataFrame(data=centers, columns=fea)\n",
    "centersdf_transposed = centersdf.T\n",
    "centersdf_transposed.columns = pd.MultiIndex.from_arrays([['Cluster #']*len(centersdf_transposed.columns), centersdf_transposed.columns])\n",
    "centersdf_transposed.index.names = ['Attribute']\n",
    "centersdf_transposed"
   ]
  },
  {
   "cell_type": "code",
   "execution_count": 49,
   "metadata": {},
   "outputs": [
    {
     "data": {
      "text/plain": [
       "array([16.66666667, 13.        , 13.66666667])"
      ]
     },
     "execution_count": 49,
     "metadata": {},
     "output_type": "execute_result"
    }
   ],
   "source": [
    "\n",
    "centers[:,0]"
   ]
  },
  {
   "cell_type": "code",
   "execution_count": 50,
   "metadata": {},
   "outputs": [
    {
     "data": {
      "image/png": "[encoded data removed]",
      "text/plain": [
       "<Figure size 432x288 with 1 Axes>"
      ]
     },
     "metadata": {
      "needs_background": "light"
     },
     "output_type": "display_data"
    }
   ],
   "source": [
    "def plot(centers):\n",
    "    for i,c in enumerate(centers):\n",
    "        plt.plot(centers[i], '-o')\n",
    "    plt.title('Visualization of cluster centers data');\n",
    "    plt.show()\n",
    "plot(centers)"
   ]
  },
  {
   "cell_type": "code",
   "execution_count": 51,
   "metadata": {},
   "outputs": [
    {
     "name": "stdout",
     "output_type": "stream",
     "text": [
      "Within Set Sum of Squared Errors = 99.00000000000045\n"
     ]
    }
   ],
   "source": [
    "# Evaluate clustering by computing Within Set Sum of Squared Errors.\n",
    "wssse = model.computeCost(trainingData)\n",
    "print(\"Within Set Sum of Squared Errors = \"+ str(wssse))"
   ]
  },
  {
   "cell_type": "code",
   "execution_count": 52,
   "metadata": {},
   "outputs": [],
   "source": [
    "cost = np.zeros(10)\n",
    "for k in range(2,10):\n",
    "    kmeansf = KMeans(k=k, seed=1)  # k clusters here\n",
    "    modelf = kmeansf.fit(trainingData.select('features'))\n",
    "    cost[k] = modelf.computeCost(trainingData) # requires Spark 2.0 or later"
   ]
  },
  {
   "cell_type": "code",
   "execution_count": 53,
   "metadata": {},
   "outputs": [
    {
     "data": {
      "image/png": "[encoded data removed]",
      "text/plain": [
       "<Figure size 576x720 with 1 Axes>"
      ]
     },
     "metadata": {
      "needs_background": "light"
     },
     "output_type": "display_data"
    }
   ],
   "source": [
    "fig, ax = plt.subplots(1,1, figsize =(8,10))\n",
    "ax.plot(range(2,10),cost[2:10])\n",
    "ax.set_xlabel('k')\n",
    "ax.set_ylabel('cost')\n",
    "plt.show()"
   ]
  },
  {
   "cell_type": "code",
   "execution_count": null,
   "metadata": {},
   "outputs": [],
   "source": []
  }
 ],
 "metadata": {
  "kernelspec": {
   "display_name": "Python 3",
   "language": "python",
   "name": "python3"
  },
  "language_info": {
   "codemirror_mode": {
    "name": "ipython",
    "version": 3
   },
   "file_extension": ".py",
   "mimetype": "text/x-python",
   "name": "python",
   "nbconvert_exporter": "python",
   "pygments_lexer": "ipython3",
   "version": "3.7.6"
  }
 },
 "nbformat": 4,
 "nbformat_minor": 4
}
