{
  "nbformat": 4,
  "nbformat_minor": 0,
  "metadata": {
    "colab": {
      "name": "YanPytorch.ipynb",
      "provenance": [],
      "collapsed_sections": [],
      "toc_visible": true
    },
    "kernelspec": {
      "name": "python3",
      "display_name": "Python 3"
    }
  },
  "cells": [
    {
      "cell_type": "code",
      "metadata": {
        "id": "ogO0Y0Arwrrm",
        "colab_type": "code",
        "colab": {
          "base_uri": "https://localhost:8080/",
          "height": 34
        },
        "outputId": "d8012c88-cf93-40c1-ece4-cd9e7ab842ee"
      },
      "source": [
        "#Programa inteligente que aprende a jugar \"Yan ken po\" con keras\n",
        "options = [\"piedra\", \"tijeras\", \"papel\"]\n",
        "def search_winner(p1, p2):\n",
        "    if p1 == p2:\n",
        "        result = 0\n",
        "    elif p1 == \"piedra\" and p2 == \"tijeras\":\n",
        "        result = 1\n",
        "    elif p1 == \"piedra\" and p2 == \"papel\":\n",
        "        result = 2\n",
        "    elif p1 == \"tijeras\" and p2 == \"piedra\":\n",
        "        result = 2\n",
        "    elif p1 == \"tijeras\" and p2 == \"papel\":\n",
        "        result = 1\n",
        "    elif p1 == \"papel\" and p2 == \"piedra\":\n",
        "        result = 1\n",
        "    elif p1 == \"papel\" and p2 == \"tijeras\":\n",
        "        result = 2\n",
        "    return result\n",
        "\n",
        "search_winner(\"papel\", \"tijeras\")"
      ],
      "execution_count": 1,
      "outputs": [
        {
          "output_type": "execute_result",
          "data": {
            "text/plain": [
              "2"
            ]
          },
          "metadata": {
            "tags": []
          },
          "execution_count": 1
        }
      ]
    },
    {
      "cell_type": "code",
      "metadata": {
        "id": "M4nIt8u1wxO_",
        "colab_type": "code",
        "colab": {
          "base_uri": "https://localhost:8080/",
          "height": 187
        },
        "outputId": "8dc4676d-dfc4-4bb6-cec3-1edc2d4767b2"
      },
      "source": [
        "from random import choice\n",
        "def get_choice():\n",
        "    return choice(options)\n",
        "\n",
        "for i in range(10):\n",
        "    player1 = get_choice()\n",
        "    player2 = get_choice()\n",
        "    print(\"player1: %s player2: %s Winner: %s \" % (\n",
        "        player1, player2, search_winner(player1, player2)\n",
        "    ))"
      ],
      "execution_count": 2,
      "outputs": [
        {
          "output_type": "stream",
          "text": [
            "player1: papel player2: papel Winner: 0 \n",
            "player1: papel player2: papel Winner: 0 \n",
            "player1: papel player2: piedra Winner: 1 \n",
            "player1: piedra player2: tijeras Winner: 1 \n",
            "player1: piedra player2: papel Winner: 2 \n",
            "player1: tijeras player2: piedra Winner: 2 \n",
            "player1: piedra player2: tijeras Winner: 1 \n",
            "player1: tijeras player2: papel Winner: 1 \n",
            "player1: piedra player2: tijeras Winner: 1 \n",
            "player1: tijeras player2: papel Winner: 1 \n"
          ],
          "name": "stdout"
        }
      ]
    },
    {
      "cell_type": "code",
      "metadata": {
        "id": "jY-lcIHGw2Ki",
        "colab_type": "code",
        "colab": {
          "base_uri": "https://localhost:8080/",
          "height": 51
        },
        "outputId": "71c8eb57-ecfc-4340-ac3a-f8747f453995"
      },
      "source": [
        "#vectorizar y crear el dataser con sus clases segun el experto\n",
        "def str_to_list(option):\n",
        "    if option==\"piedra\":\n",
        "        res = [1,0,0]\n",
        "    elif option==\"tijeras\":\n",
        "        res = [0,1,0]\n",
        "    else:\n",
        "        res = [0,0,1]\n",
        "    return res\n",
        "\n",
        "data_X = list(map(str_to_list, [\"piedra\", \"tijeras\", \"papel\", \"papel\"]))\n",
        "data_y = list(map(str_to_list, [\"papel\", \"piedra\", \"tijeras\", \"tijeras\"]))\n",
        "print(data_X)\n",
        "print(data_y)"
      ],
      "execution_count": 107,
      "outputs": [
        {
          "output_type": "stream",
          "text": [
            "[[1, 0, 0], [0, 1, 0], [0, 0, 1], [0, 0, 1]]\n",
            "[[0, 0, 1], [1, 0, 0], [0, 1, 0], [0, 1, 0]]\n"
          ],
          "name": "stdout"
        }
      ]
    },
    {
      "cell_type": "code",
      "metadata": {
        "id": "Fl6sWAuyAERk",
        "colab_type": "code",
        "colab": {
          "base_uri": "https://localhost:8080/",
          "height": 85
        },
        "outputId": "e361f3e9-eb10-49eb-903d-e74572edb083"
      },
      "source": [
        "import os\n",
        "\n",
        "import torch\n",
        "from torch.nn import functional as F\n",
        "from torch.utils.data import DataLoader\n",
        "import pytorch_lightning as pl\n",
        "\n",
        "class NeuralNet(nn.Module):\n",
        "  def __init__(self):\n",
        "    super(NeuralNet, self).__init__()\n",
        "    self.fc1 = nn.Linear(3,100)\n",
        "    self.fc2 = nn.Linear(8,3)\n",
        "    # self.relu = nn.ReLU()\n",
        "    # self.sigmoid = nn.Sigmoid()\n",
        "  \n",
        "  def forward(self, x):\n",
        "    x = F.relu(self.fc1(x))\n",
        "    x = F.sigmoid(self.fc2(x))\n",
        "    return x\n",
        "\n",
        "model = NeuralNet()\n",
        "model\n",
        "\n"
      ],
      "execution_count": 183,
      "outputs": [
        {
          "output_type": "execute_result",
          "data": {
            "text/plain": [
              "NeuralNet(\n",
              "  (fc1): Linear(in_features=3, out_features=100, bias=True)\n",
              "  (fc2): Linear(in_features=8, out_features=3, bias=True)\n",
              ")"
            ]
          },
          "metadata": {
            "tags": []
          },
          "execution_count": 183
        }
      ]
    },
    {
      "cell_type": "code",
      "metadata": {
        "id": "5CFyhuyQJBGD",
        "colab_type": "code",
        "colab": {}
      },
      "source": [
        ""
      ],
      "execution_count": null,
      "outputs": []
    }
  ]
}